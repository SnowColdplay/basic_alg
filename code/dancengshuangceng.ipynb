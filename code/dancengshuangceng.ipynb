{
 "cells": [
  {
   "cell_type": "code",
   "execution_count": 1,
   "metadata": {
    "collapsed": true
   },
   "outputs": [],
   "source": [
    "import numpy as np"
   ]
  },
  {
   "cell_type": "code",
   "execution_count": 2,
   "metadata": {},
   "outputs": [],
   "source": [
    "def nonlin(x,deriv=False): #define a nonlin function\n",
    "    if deriv==True:\n",
    "        return x*(1-x)     #sigmoid函数的导数\n",
    "    return 1/(1+np.exp(-x))"
   ]
  },
  {
   "cell_type": "code",
   "execution_count": 3,
   "metadata": {
    "collapsed": true
   },
   "outputs": [],
   "source": [
    "#注：有多少个权重参数矩阵，就说神经网络有多少层\n",
    "#单层神经网络，更新一组权重参数w\n",
    "def danceng(X,Y,w):\n",
    "    for iter in range(1000):\n",
    "        l0=X\n",
    "        l1=nonlin(np.dot(l0,w)) #前向传播\n",
    "        l1_error=Y-l1 #loss值，损失函数\n",
    "        l1_grad=l1_error*nonlin(l1,True) #反向传播\n",
    "        w_grad=np.dot(l0.T,l1_grad) #自身梯度乘以上一步传下来的梯度。自身梯度是l0,上一步传下来的梯度是l1_grad\n",
    "        w=w+w_grad\n",
    "    return l1   #返回神经网络预测值"
   ]
  },
  {
   "cell_type": "code",
   "execution_count": 4,
   "metadata": {
    "collapsed": true
   },
   "outputs": [],
   "source": [
    "#两层神经网络\n",
    "def liangceng(X,Y,w0,w1):\n",
    "    for iter in range(100):\n",
    "        l0=X\n",
    "        l1=nonlin(np.dot(l0,w0))\n",
    "        l2=nonlin(np.dot(l1,w1)) #前向传播\n",
    "        l2_error=Y-l2\n",
    "        l2_grad=l2_error*nonlin(l2,True)  #反向传播\n",
    "        l1_error=l2_grad.dot(w1.T) #下一步的梯度乘以本身权重\n",
    "        l1_grad=l1_error*nonlin(l1,True)\n",
    "        w1+=l1.T.dot(l2_grad)\n",
    "        w0+=l0.T.dot(l1_grad)\n",
    "    return l2"
   ]
  },
  {
   "cell_type": "code",
   "execution_count": 5,
   "metadata": {},
   "outputs": [
    {
     "data": {
      "text/plain": [
       "array([[0, 0, 1],\n",
       "       [1, 0, 1],\n",
       "       [1, 1, 1]])"
      ]
     },
     "execution_count": 5,
     "metadata": {},
     "output_type": "execute_result"
    }
   ],
   "source": [
    "X=np.array([[0,0,1],[1,0,1],[1,1,1]]) #输入输出的值\n",
    "X"
   ]
  },
  {
   "cell_type": "code",
   "execution_count": 6,
   "metadata": {},
   "outputs": [
    {
     "data": {
      "text/plain": [
       "array([[0],\n",
       "       [0],\n",
       "       [1]])"
      ]
     },
     "execution_count": 6,
     "metadata": {},
     "output_type": "execute_result"
    }
   ],
   "source": [
    "Y=np.array([[0,0,1]]).T\n",
    "Y"
   ]
  },
  {
   "cell_type": "code",
   "execution_count": 7,
   "metadata": {},
   "outputs": [
    {
     "data": {
      "text/plain": [
       "array([[-0.47623601],\n",
       "       [-0.3326648 ],\n",
       "       [ 0.96290712]])"
      ]
     },
     "execution_count": 7,
     "metadata": {},
     "output_type": "execute_result"
    }
   ],
   "source": [
    "w=2*np.random.random((3,1))-1 \n",
    "w"
   ]
  },
  {
   "cell_type": "code",
   "execution_count": 8,
   "metadata": {},
   "outputs": [],
   "source": [
    "w0=2*np.random.random((3,3))-1 #保证矩阵维度\n",
    "w1=2*np.random.random((3,1))-1 "
   ]
  },
  {
   "cell_type": "code",
   "execution_count": 9,
   "metadata": {},
   "outputs": [
    {
     "data": {
      "text/plain": [
       "array([[ 0.05529763],\n",
       "       [ 0.15961501],\n",
       "       [ 0.78444044]])"
      ]
     },
     "execution_count": 9,
     "metadata": {},
     "output_type": "execute_result"
    }
   ],
   "source": [
    "liangceng(X,Y,w0,w1)"
   ]
  }
 ],
 "metadata": {
  "kernelspec": {
   "display_name": "Python 2",
   "language": "python",
   "name": "python2"
  },
  "language_info": {
   "codemirror_mode": {
    "name": "ipython",
    "version": 2
   },
   "file_extension": ".py",
   "mimetype": "text/x-python",
   "name": "python",
   "nbconvert_exporter": "python",
   "pygments_lexer": "ipython2",
   "version": "2.7.13"
  }
 },
 "nbformat": 4,
 "nbformat_minor": 2
}
