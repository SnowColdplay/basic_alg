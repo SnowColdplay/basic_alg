{
 "cells": [
  {
   "cell_type": "code",
   "execution_count": 1,
   "metadata": {
    "collapsed": true
   },
   "outputs": [],
   "source": [
    "import numpy as np\n",
    "import matplotlib.pyplot as plt\n",
    "#整理自唐宇迪深度学习课程，推荐大家看，很适合入门。"
   ]
  },
  {
   "cell_type": "code",
   "execution_count": 2,
   "metadata": {
    "collapsed": true
   },
   "outputs": [],
   "source": [
    "def generatedata(N,D,K):\n",
    "    X=np.zeros((N*K,D))\n",
    "    y=np.zeros(N*K,dtype='uint8') #颜色,也代表类别（不同的颜色是不同的类别）\n",
    "    for j in range(K):\n",
    "        ix=range(N*j,N*(j+1))\n",
    "        r=np.linspace(0.0,1,N)\n",
    "        t=np.linspace(j*4,(j+1)*4,N)+np.random.randn(N)*0.2\n",
    "        X[ix]=np.c_[r*np.sin(t),r*np.cos(t)] #np.c_按colunm来组合array\n",
    "        y[ix]=j\n",
    "    fig=plt.figure()\n",
    "    plt.scatter(X[:,0],X[:,1],c=y,s=40,cmap=plt.cm.Spectral) #c=y.cmap是颜色设置，s=40是点的大小\n",
    "    plt.xlim([-1,1])\n",
    "    plt.ylim([-1,1])\n",
    "    plt.show()\n",
    "    return X,y"
   ]
  },
  {
   "cell_type": "code",
   "execution_count": 3,
   "metadata": {
    "collapsed": true
   },
   "outputs": [],
   "source": [
    "#线性分类，没有激活函数的单层神经网络\n",
    "def softmax(w,b,X):\n",
    "    num_examples=X.shape[0]  #样本数\n",
    "    stepsize=1  #学习率\n",
    "    reg=1e-3     #正则化\n",
    "    for i in range(100):\n",
    "        scores=np.dot(X,w)+b\n",
    "        exp_score=np.exp(scores)   #分成三类，选择softmax分类器\n",
    "        probs=exp_score/np.sum(exp_score,axis=1,keepdims=True)\n",
    "        correct_logprob=-np.log(probs[range(num_examples),y])  #单个类别损失函数.这个命令取得行数和列数。range(num_examples)是行数，y是label\n",
    "        data_loss=np.sum(correct_logprob)/num_examples  #data loss\n",
    "        reg_loss=0.5*reg*np.sum(w*w)\n",
    "        loss=data_loss+reg_loss                     #前向传播完成\n",
    "        if i%10==0:\n",
    "            print 'iteration %d:loss %f'%(i,loss)\n",
    "    \n",
    "        dscores=probs                              #反向传播。softmax梯度传递，首先是score的梯度\n",
    "        dscores[range(num_examples),y]-=1          #概率值减去1\n",
    "        dscores/=num_examples                      #loss值对score值求导，第一步传播的梯度。而下一步的梯度等于上一步的梯度乘以自身梯度\n",
    "    \n",
    "        dw=np.dot(X.T,dscores)                     #w本身的梯度是x,本身梯度乘以上一步传下来的梯度\n",
    "        db=np.sum(dscores,axis=0,keepdims=True)    #b本身的梯度是1,keepdims=True的意思是sum之后保持现在的维度不变\n",
    "        dw+=reg*w                                  #正则化项的梯度\n",
    "    \n",
    "        w+=-stepsize*dw\n",
    "        b+=-stepsize*db\n",
    "        \n",
    "    return w,b"
   ]
  },
  {
   "cell_type": "code",
   "execution_count": 4,
   "metadata": {
    "collapsed": true
   },
   "outputs": [],
   "source": [
    "def scores_softmax(w,b,X,y):\n",
    "    scores=np.dot(X,w)+b\n",
    "    predicted_class=np.argmax(scores,axis=1)\n",
    "    accuracy=np.mean(predicted_class==y)\n",
    "    print(accuracy)\n",
    "    return accuracy"
   ]
  },
  {
   "cell_type": "code",
   "execution_count": 5,
   "metadata": {
    "collapsed": true
   },
   "outputs": [],
   "source": [
    "def Relu(h,w,b,w2,b2,X,y):\n",
    "    num_examples=X.shape[0]\n",
    "    stepsize=1  #学习率\n",
    "    reg=1e-4     #正则化\n",
    "    for i in range(2000):\n",
    "        hidden_layer=np.maximum(0,np.dot(X,w)+b)   #得分函数与激活函数\n",
    "        scores=np.dot(hidden_layer,w2)+b2\n",
    "    \n",
    "        exp_scores=np.exp(scores)\n",
    "        probs=exp_scores/np.sum(exp_scores,axis=1,keepdims=True)\n",
    "    \n",
    "        correct_lossprobs=-np.log(probs[range(num_examples),y])\n",
    "        data_loss=np.sum(correct_lossprobs)/num_examples\n",
    "        reg_loss=0.5*np.sum(w*w)+0.5*np.sum(w2*w2)\n",
    "        loss=data_loss+reg_loss\n",
    "        if i%10==0:\n",
    "            print 'iteration %d:loss %f'%(i,loss)\n",
    "    \n",
    "        dscores=probs                              #反向传播。softmax梯度传递，首先是score的梯度\n",
    "        dscores[range(num_examples),y]-=1          #概率值减去1\n",
    "        dscores/=num_examples                      #loss值对score值求导，第一步传播的梯度。而下一步的梯度等于上一步的梯度乘以自身梯度\n",
    "    \n",
    "        dw2=np.dot(hidden_layer.T,dscores)           #w2自身的梯度等于hidden_layer,传下来的梯度是dscores\n",
    "        db2=np.sum(dscores,axis=0,keepdims=True)\n",
    "    \n",
    "        dhidden=np.dot(dscores,w2.T)              #隐藏层的梯度\n",
    "        dhidden[hidden_layer<=0]=0\n",
    "    \n",
    "        dw=np.dot(X.T,dhidden)\n",
    "        db=np.sum(dhidden,axis=0,keepdims=True)\n",
    "    \n",
    "        dw2+=reg*w2\n",
    "        dw+=reg*w\n",
    "    \n",
    "        w+=-stepsize*dw\n",
    "        w2+=-stepsize*dw2\n",
    "        b+=-stepsize*db\n",
    "        b2+=-stepsize*db2\n",
    "    return w,w2,b,b2"
   ]
  },
  {
   "cell_type": "code",
   "execution_count": 6,
   "metadata": {
    "collapsed": true
   },
   "outputs": [],
   "source": [
    "def accuracy_relu(X,w,w2,b,b2,y):\n",
    "    hidden_layer = np.maximum(0,np.dot(X,w)+b)\n",
    "    scores = np.dot(hidden_layer,w2) + b2\n",
    "    predicted_class = np.argmax(scores,axis = 1)\n",
    "    accuracy=np.mean(predicted_class == y)\n",
    "    print(accuracy)"
   ]
  },
  {
   "cell_type": "code",
   "execution_count": 7,
   "metadata": {},
   "outputs": [
    {
     "data": {
      "image/png": "[encoded data removed]",
      "text/plain": [
       "<matplotlib.figure.Figure at 0x7b02438>"
      ]
     },
     "metadata": {},
     "output_type": "display_data"
    }
   ],
   "source": [
    "N=10 #number of points per class\n",
    "D=2 #dimensionality\n",
    "K=4  #number of class\n",
    "X,y=generatedata(N,D,K)"
   ]
  },
  {
   "cell_type": "code",
   "execution_count": 8,
   "metadata": {},
   "outputs": [
    {
     "name": "stdout",
     "output_type": "stream",
     "text": [
      "iteration 0:loss 1.620397\n",
      "iteration 10:loss 1.344461\n",
      "iteration 20:loss 1.222953\n",
      "iteration 30:loss 1.163028\n",
      "iteration 40:loss 1.131601\n",
      "iteration 50:loss 1.113784\n",
      "iteration 60:loss 1.102979\n",
      "iteration 70:loss 1.096068\n",
      "iteration 80:loss 1.091457\n",
      "iteration 90:loss 1.088277\n",
      "0.35\n"
     ]
    }
   ],
   "source": [
    "w=np.random.randn(D,K)\n",
    "b=np.zeros((1,K))\n",
    "w,b=softmax(w,b,X)\n",
    "accuracy=scores_softmax(w,b,X,y)"
   ]
  },
  {
   "cell_type": "code",
   "execution_count": 9,
   "metadata": {},
   "outputs": [
    {
     "name": "stdout",
     "output_type": "stream",
     "text": [
      "iteration 0:loss 1.415599\n",
      "iteration 10:loss 1.427617\n",
      "iteration 20:loss 1.513439\n",
      "iteration 30:loss 1.934565\n",
      "iteration 40:loss 3.437277\n",
      "iteration 50:loss 5.998364\n",
      "iteration 60:loss 8.095015\n",
      "iteration 70:loss 9.409778\n",
      "iteration 80:loss 10.345701\n",
      "iteration 90:loss 11.137802\n",
      "iteration 100:loss 11.896067\n",
      "iteration 110:loss 12.668641\n",
      "iteration 120:loss 13.470132\n",
      "iteration 130:loss 14.332169\n",
      "iteration 140:loss 15.296146\n",
      "iteration 150:loss 16.219716\n",
      "iteration 160:loss 16.877170\n",
      "iteration 170:loss 17.684312\n",
      "iteration 180:loss 18.522504\n",
      "iteration 190:loss 19.389899\n",
      "iteration 200:loss 20.305849\n",
      "iteration 210:loss 21.267511\n",
      "iteration 220:loss 22.271686\n",
      "iteration 230:loss 23.345880\n",
      "iteration 240:loss 24.476884\n",
      "iteration 250:loss 25.662696\n",
      "iteration 260:loss 26.926023\n",
      "iteration 270:loss 27.498175\n",
      "iteration 280:loss 28.633220\n",
      "iteration 290:loss 29.839632\n",
      "iteration 300:loss 31.386069\n",
      "iteration 310:loss 33.104500\n",
      "iteration 320:loss 34.839318\n",
      "iteration 330:loss 36.816080\n",
      "iteration 340:loss 38.941405\n",
      "iteration 350:loss 41.381144\n",
      "iteration 360:loss 43.951406\n",
      "iteration 370:loss 46.276961\n",
      "iteration 380:loss 49.069079\n",
      "iteration 390:loss 52.044575\n",
      "iteration 400:loss 55.024323\n",
      "iteration 410:loss 58.043789\n",
      "iteration 420:loss 61.236183\n",
      "iteration 430:loss 64.433821\n",
      "iteration 440:loss 67.597901\n",
      "iteration 450:loss 70.625726\n",
      "iteration 460:loss 73.730945\n",
      "iteration 470:loss 76.858179\n",
      "iteration 480:loss 79.912729\n",
      "iteration 490:loss 82.928009\n",
      "iteration 500:loss 85.920873\n",
      "iteration 510:loss 88.925567\n",
      "iteration 520:loss 91.888439\n",
      "iteration 530:loss 94.832771\n",
      "iteration 540:loss 97.759147\n",
      "iteration 550:loss 100.686475\n",
      "iteration 560:loss 103.558202\n",
      "iteration 570:loss 106.400838\n",
      "iteration 580:loss 109.226808\n",
      "iteration 590:loss 112.014620\n",
      "iteration 600:loss 114.772145\n",
      "iteration 610:loss 117.490651\n",
      "iteration 620:loss 120.176622\n",
      "iteration 630:loss 122.850517\n",
      "iteration 640:loss 125.489453\n",
      "iteration 650:loss 128.082928\n",
      "iteration 660:loss 130.657254\n",
      "iteration 670:loss 133.200044\n",
      "iteration 680:loss 135.704776\n",
      "iteration 690:loss 138.192696\n",
      "iteration 700:loss 140.623765\n",
      "iteration 710:loss 143.082517\n",
      "iteration 720:loss 145.479204\n",
      "iteration 730:loss 147.879853\n",
      "iteration 740:loss 150.239935\n",
      "iteration 750:loss 152.609785\n",
      "iteration 760:loss 154.986339\n",
      "iteration 770:loss 157.309492\n",
      "iteration 780:loss 159.672110\n",
      "iteration 790:loss 161.968286\n",
      "iteration 800:loss 164.263136\n",
      "iteration 810:loss 166.483311\n",
      "iteration 820:loss 168.709795\n",
      "iteration 830:loss 170.976221\n",
      "iteration 840:loss 173.219115\n",
      "iteration 850:loss 175.437871\n",
      "iteration 860:loss 177.504930\n",
      "iteration 870:loss 179.691144\n",
      "iteration 880:loss 181.824511\n",
      "iteration 890:loss 184.082381\n",
      "iteration 900:loss 186.143305\n",
      "iteration 910:loss 188.127668\n",
      "iteration 920:loss 190.151672\n",
      "iteration 930:loss 192.189763\n",
      "iteration 940:loss 194.262138\n",
      "iteration 950:loss 196.284887\n",
      "iteration 960:loss 198.229697\n",
      "iteration 970:loss 200.182273\n",
      "iteration 980:loss 202.183659\n",
      "iteration 990:loss 204.347477\n",
      "iteration 1000:loss 206.301950\n",
      "iteration 1010:loss 208.110509\n",
      "iteration 1020:loss 209.960245\n",
      "iteration 1030:loss 211.925886\n",
      "iteration 1040:loss 213.833140\n",
      "iteration 1050:loss 215.841009\n",
      "iteration 1060:loss 217.665045\n",
      "iteration 1070:loss 219.375123\n",
      "iteration 1080:loss 221.178319\n",
      "iteration 1090:loss 223.064138\n",
      "iteration 1100:loss 224.963723\n",
      "iteration 1110:loss 226.805585\n",
      "iteration 1120:loss 228.663283\n",
      "iteration 1130:loss 230.610843\n",
      "iteration 1140:loss 232.639480\n",
      "iteration 1150:loss 234.523031\n",
      "iteration 1160:loss 236.514539\n",
      "iteration 1170:loss 238.509404\n",
      "iteration 1180:loss 240.443440\n",
      "iteration 1190:loss 242.338282\n",
      "iteration 1200:loss 244.288836\n",
      "iteration 1210:loss 246.346378\n",
      "iteration 1220:loss 248.341061\n",
      "iteration 1230:loss 250.289359\n",
      "iteration 1240:loss 252.302778\n",
      "iteration 1250:loss 254.207060\n",
      "iteration 1260:loss 256.158818\n",
      "iteration 1270:loss 258.069723\n",
      "iteration 1280:loss 260.018644\n",
      "iteration 1290:loss 261.878575\n",
      "iteration 1300:loss 263.794340\n",
      "iteration 1310:loss 265.616478\n",
      "iteration 1320:loss 267.368422\n",
      "iteration 1330:loss 269.062952\n",
      "iteration 1340:loss 270.800030\n",
      "iteration 1350:loss 272.508743\n",
      "iteration 1360:loss 274.312717\n",
      "iteration 1370:loss 276.016397\n",
      "iteration 1380:loss 277.677253\n",
      "iteration 1390:loss 279.290469\n",
      "iteration 1400:loss 280.966396\n",
      "iteration 1410:loss 282.563257\n",
      "iteration 1420:loss 284.105992\n",
      "iteration 1430:loss 285.605719\n",
      "iteration 1440:loss 287.135696\n",
      "iteration 1450:loss 288.687239\n",
      "iteration 1460:loss 290.267819\n",
      "iteration 1470:loss 291.779388\n",
      "iteration 1480:loss 293.256922\n",
      "iteration 1490:loss 294.709514\n",
      "iteration 1500:loss 296.169354\n",
      "iteration 1510:loss 297.625140\n",
      "iteration 1520:loss 299.061020\n",
      "iteration 1530:loss 300.491640\n",
      "iteration 1540:loss 301.902291\n",
      "iteration 1550:loss 303.280503\n",
      "iteration 1560:loss 304.663135\n",
      "iteration 1570:loss 306.032726\n",
      "iteration 1580:loss 307.390963\n",
      "iteration 1590:loss 308.735840\n",
      "iteration 1600:loss 310.063643\n",
      "iteration 1610:loss 311.371067\n",
      "iteration 1620:loss 312.657186\n",
      "iteration 1630:loss 313.929254\n",
      "iteration 1640:loss 315.160005\n",
      "iteration 1650:loss 316.388518\n",
      "iteration 1660:loss 317.593216\n",
      "iteration 1670:loss 318.811481\n",
      "iteration 1680:loss 320.015811\n",
      "iteration 1690:loss 321.233471\n",
      "iteration 1700:loss 322.429035\n",
      "iteration 1710:loss 323.571263\n",
      "iteration 1720:loss 324.702340\n",
      "iteration 1730:loss 325.823745\n",
      "iteration 1740:loss 326.936161\n",
      "iteration 1750:loss 328.015875\n",
      "iteration 1760:loss 329.117935\n",
      "iteration 1770:loss 330.203909\n",
      "iteration 1780:loss 331.306292\n",
      "iteration 1790:loss 332.411625\n",
      "iteration 1800:loss 333.486635\n",
      "iteration 1810:loss 334.523359\n",
      "iteration 1820:loss 335.558614\n",
      "iteration 1830:loss 336.572618\n",
      "iteration 1840:loss 337.570051\n",
      "iteration 1850:loss 338.573193\n",
      "iteration 1860:loss 339.553420\n",
      "iteration 1870:loss 340.524480\n",
      "iteration 1880:loss 341.532005\n",
      "iteration 1890:loss 342.536008\n",
      "iteration 1900:loss 343.536377\n",
      "iteration 1910:loss 344.524569\n",
      "iteration 1920:loss 345.436149\n",
      "iteration 1930:loss 346.381149\n",
      "iteration 1940:loss 347.289275\n",
      "iteration 1950:loss 348.216484\n",
      "iteration 1960:loss 349.124898\n",
      "iteration 1970:loss 350.031345\n",
      "iteration 1980:loss 350.927778\n",
      "iteration 1990:loss 351.814298\n",
      "0.9\n"
     ]
    }
   ],
   "source": [
    "h=100\n",
    "w=0.01*np.random.randn(D,h)\n",
    "b=np.zeros((1,h))\n",
    "w2=0.01*np.random.randn(h,K)\n",
    "b2=np.zeros((1,K))\n",
    "w,w2,b,b2=Relu(h,w,b,w2,b2,X,y)\n",
    "accuracy=accuracy_relu(X,w,w2,b,b2,y)"
   ]
  },
  {
   "cell_type": "code",
   "execution_count": 10,
   "metadata": {},
   "outputs": [
    {
     "data": {
      "image/png": "[encoded data removed]",
      "text/plain": [
       "<matplotlib.figure.Figure at 0x7d277b8>"
      ]
     },
     "metadata": {},
     "output_type": "display_data"
    }
   ],
   "source": [
    "#画出分类效果\n",
    "h=0.02\n",
    "x_min , x_max = X[:,0].min() - 1, X[:,0].max() + 1\n",
    "y_min , y_max = X[:,1].min() - 1, X[:,1].max() +1\n",
    "xx, yy = np.meshgrid(np.arange(x_min , x_max ,h),\n",
    "                     np.arange(y_min , y_max ,h))\n",
    "Z = np.dot(np.c_[xx.ravel(),yy.ravel()],w) + b\n",
    "Z = np.argmax(Z,axis = 1)\n",
    "Z = Z.reshape(xx.shape)\n",
    "fig = plt.figure()\n",
    "plt.contourf(xx,yy,Z,cmap=plt.cm.Spectral,alpha=0.8)\n",
    "plt.scatter(X[:,0],X[:,1],c=y,s=40,cmap=plt.cm.Spectral)\n",
    "plt.xlim(xx.min(),xx.max())\n",
    "plt.ylim(yy.min(),yy.max())\n",
    "plt.show()"
   ]
  },
  {
   "cell_type": "code",
   "execution_count": 11,
   "metadata": {},
   "outputs": [
    {
     "data": {
      "image/png": "[encoded data removed]",
      "text/plain": [
       "<matplotlib.figure.Figure at 0x7ec6dd8>"
      ]
     },
     "metadata": {},
     "output_type": "display_data"
    }
   ],
   "source": [
    "h=0.02\n",
    "x_min , x_max = X[:,0].min() - 1, X[:,0].max() + 1\n",
    "y_min , y_max = X[:,1].min() - 1, X[:,1].max() +1\n",
    "xx, yy = np.meshgrid(np.arange(x_min , x_max ,h),\n",
    "                     np.arange(y_min , y_max ,h))\n",
    "Z = np.dot(np.maximum(0,np.dot(np.c_[xx.ravel(),yy.ravel()],w)+b),w2) + b2\n",
    "Z = np.argmax(Z,axis = 1)\n",
    "Z = Z.reshape(xx.shape)\n",
    "fig = plt.figure()\n",
    "plt.contourf(xx,yy,Z,cmap=plt.cm.Spectral,alpha=0.8)\n",
    "plt.scatter(X[:,0],X[:,1],c=y,s=40,cmap=plt.cm.Spectral)\n",
    "plt.xlim(xx.min(),xx.max())\n",
    "plt.ylim(yy.min(),yy.max())\n",
    "plt.show()"
   ]
  },
  {
   "cell_type": "code",
   "execution_count": null,
   "metadata": {
    "collapsed": true
   },
   "outputs": [],
   "source": []
  }
 ],
 "metadata": {
  "kernelspec": {
   "display_name": "Python 2",
   "language": "python",
   "name": "python2"
  },
  "language_info": {
   "codemirror_mode": {
    "name": "ipython",
    "version": 2
   },
   "file_extension": ".py",
   "mimetype": "text/x-python",
   "name": "python",
   "nbconvert_exporter": "python",
   "pygments_lexer": "ipython2",
   "version": "2.7.13"
  }
 },
 "nbformat": 4,
 "nbformat_minor": 2
}
